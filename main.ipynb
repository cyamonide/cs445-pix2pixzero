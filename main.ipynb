{
  "cells": [
    {
      "cell_type": "code",
      "execution_count": null,
      "metadata": {
        "id": "y-PEl7Jo9NE6",
        "outputId": "ec5568c4-7716-4a8b-c4ec-c5ad5cf41225"
      },
      "outputs": [
        {
          "name": "stdout",
          "output_type": "stream",
          "text": [
            "2.1.1\n",
            "None\n",
            "Python 3.11.5\n"
          ]
        }
      ],
      "source": [
        "import torch\n",
        "print(torch.__version__)\n",
        "print(torch.version.cuda)\n",
        "!python --version"
      ]
    },
    {
      "cell_type": "code",
      "execution_count": null,
      "metadata": {
        "id": "kNsNoPDN9NE9"
      },
      "outputs": [],
      "source": [
        "!pip install torch torchvision torchaudio --extra-index-url https://download.pytorch.org/whl/cu121\n",
        "!pip install tensorflow[and-cuda]\n",
        "!pip install tensorrt\n",
        "!pip install accelerate\n",
        "!pip install diffusers==0.12.0\n",
        "!pip install einops\n",
        "!pip install gradio\n",
        "!pip install ipython\n",
        "!pip install numpy\n",
        "!pip install opencv-python-headless\n",
        "!pip install pillow\n",
        "!pip install psutil\n",
        "!pip install tqdm\n",
        "!pip install transformers\n",
        "!pip install \"jax[cuda12_pip]==0.4.23\" -f https://storage.googleapis.com/jax-releases/jax_cuda_releases.html\n",
        "!pip install salesforce-lavis"
      ]
    }
  ],
  "metadata": {
    "kernelspec": {
      "display_name": "Python 3",
      "language": "python",
      "name": "python3"
    },
    "language_info": {
      "codemirror_mode": {
        "name": "ipython",
        "version": 3
      },
      "file_extension": ".py",
      "mimetype": "text/x-python",
      "name": "python",
      "nbconvert_exporter": "python",
      "pygments_lexer": "ipython3",
      "version": "3.11.5"
    },
    "colab": {
      "provenance": []
    }
  },
  "nbformat": 4,
  "nbformat_minor": 0
}